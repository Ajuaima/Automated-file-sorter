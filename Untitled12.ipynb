{
 "cells": [
  {
   "cell_type": "markdown",
   "id": "11996d4e",
   "metadata": {},
   "source": [
    "AUTOMATED FILE SORTER"
   ]
  },
  {
   "cell_type": "code",
   "execution_count": 59,
   "id": "a9e51edc",
   "metadata": {},
   "outputs": [],
   "source": [
    "import os, shutil"
   ]
  },
  {
   "cell_type": "code",
   "execution_count": 60,
   "id": "1d14ceee",
   "metadata": {},
   "outputs": [],
   "source": [
    "path = r\"C:/Users/Ajuaima/Documents/python tutorial/\""
   ]
  },
  {
   "cell_type": "code",
   "execution_count": 63,
   "id": "b5ce15e3",
   "metadata": {},
   "outputs": [],
   "source": [
    "filename = os.listdir(path)"
   ]
  },
  {
   "cell_type": "code",
   "execution_count": 67,
   "id": "8de32944",
   "metadata": {},
   "outputs": [],
   "source": [
    "foldernames = ['excel files', 'image files','text files']\n",
    "\n",
    "for loop in range (0,3):\n",
    "    if not os.path.exists(path + foldernames[loop]):\n",
    "        print(path + foldernames[loop])\n",
    "        os.makedirs(path + foldernames[loop])"
   ]
  },
  {
   "cell_type": "code",
   "execution_count": 69,
   "id": "8d2b6a1e",
   "metadata": {},
   "outputs": [],
   "source": [
    "for file in filename:\n",
    "    if \".jpg\" in file and not os.path.exists(path + \"image files/\"+ file):\n",
    "        shutil.move(path + file, path + \"image files/\" + file )\n",
    "    elif \".docx\" in file and not os.path.exists(path + \"text files/\" + file):\n",
    "        shutil.move(path + file, path + \"text files/\" + file)\n",
    "    elif \".xlsx\" in file and not os.path.exists(path + \"excel files/\" +file):\n",
    "        shutil.move(path + file, path + \"excel files/\" + file)\n",
    "   "
   ]
  },
  {
   "cell_type": "code",
   "execution_count": null,
   "id": "ea88e9f9",
   "metadata": {},
   "outputs": [],
   "source": []
  },
  {
   "cell_type": "code",
   "execution_count": null,
   "id": "e2fe7466",
   "metadata": {},
   "outputs": [],
   "source": []
  },
  {
   "cell_type": "code",
   "execution_count": null,
   "id": "a53a6687",
   "metadata": {},
   "outputs": [],
   "source": []
  },
  {
   "cell_type": "code",
   "execution_count": null,
   "id": "40df2d22",
   "metadata": {},
   "outputs": [],
   "source": []
  },
  {
   "cell_type": "code",
   "execution_count": null,
   "id": "5d5f368b",
   "metadata": {},
   "outputs": [],
   "source": []
  },
  {
   "cell_type": "code",
   "execution_count": null,
   "id": "8a8d0267",
   "metadata": {},
   "outputs": [],
   "source": []
  },
  {
   "cell_type": "code",
   "execution_count": null,
   "id": "192cde86",
   "metadata": {},
   "outputs": [],
   "source": []
  },
  {
   "cell_type": "code",
   "execution_count": null,
   "id": "3ff90594",
   "metadata": {},
   "outputs": [],
   "source": []
  }
 ],
 "metadata": {
  "kernelspec": {
   "display_name": "Python 3 (ipykernel)",
   "language": "python",
   "name": "python3"
  },
  "language_info": {
   "codemirror_mode": {
    "name": "ipython",
    "version": 3
   },
   "file_extension": ".py",
   "mimetype": "text/x-python",
   "name": "python",
   "nbconvert_exporter": "python",
   "pygments_lexer": "ipython3",
   "version": "3.11.5"
  }
 },
 "nbformat": 4,
 "nbformat_minor": 5
}
